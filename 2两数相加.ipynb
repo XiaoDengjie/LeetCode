{
 "cells": [
  {
   "cell_type": "markdown",
   "metadata": {},
   "source": [
    "给出两个 非空 的链表用来表示两个非负的整数。其中，它们各自的位数是按照 逆序 的方式存储的，并且它们的每个节点只能存储 一位 数字。\n",
    "\n",
    "如果，我们将这两个数相加起来，则会返回一个新的链表来表示它们的和。\n",
    "\n",
    "您可以假设除了数字 0 之外，这两个数都不会以 0 开头。\n",
    "\n",
    "示例：\n",
    "\n",
    "输入：(2 -> 4 -> 3) + (5 -> 6 -> 4)\n",
    "输出：7 -> 0 -> 8\n",
    "原因：342 + 465 = 807\n",
    "\n",
    "来源：力扣（LeetCode）\n",
    "链接：https://leetcode-cn.com/problems/add-two-numbers\n",
    "著作权归领扣网络所有。商业转载请联系官方授权，非商业转载请注明出处。"
   ]
  },
  {
   "cell_type": "markdown",
   "metadata": {},
   "source": [
    "#### 本地定义链表"
   ]
  },
  {
   "cell_type": "code",
   "execution_count": 122,
   "metadata": {},
   "outputs": [
    {
     "data": {
      "text/plain": [
       "[3, 4, 2]"
      ]
     },
     "execution_count": 122,
     "metadata": {},
     "output_type": "execute_result"
    }
   ],
   "source": [
    "class ListNode():\n",
    "    \"\"\"define Node 定义节点\"\"\"\n",
    "    def __init__(self,head=None,next=None):\n",
    "        self.val=head\n",
    "        self.next=next\n",
    "\n",
    "class SingleLinked():\n",
    "    \"\"\"define SingleLinked 定义单向列表\"\"\"\n",
    "    def __init__(self, node=None):\n",
    "        self.head = node\n",
    "    \n",
    "    def add(self,e):\n",
    "        node = ListNode(e)\n",
    "        if self.head is None:\n",
    "            self.head = node\n",
    "        else:\n",
    "            node.next = self.head\n",
    "            self.head = node\n",
    "    \n",
    "    def travel(self):\n",
    "        if self.head is None:\n",
    "            print(1)\n",
    "            return None\n",
    "        else:\n",
    "            note_list = []\n",
    "            cur = self.head\n",
    "            while cur is not None:\n",
    "                note_list.append(cur.val)\n",
    "                cur = cur.next\n",
    "            return note_list\n",
    "    \n",
    "    def add_list(self,num:list):\n",
    "        for i in num:\n",
    "            self.add(i)\n",
    "\n",
    "l1 = SingleLinked()\n",
    "l2 = SingleLinked()\n",
    "num1 = [2,4,3]\n",
    "num2 = [5,6,4]\n",
    "l1.add_list(num1)\n",
    "l2.add_list(num2)\n",
    "l1.travel()"
   ]
  },
  {
   "cell_type": "markdown",
   "metadata": {},
   "source": [
    "#### 本地运行答案"
   ]
  },
  {
   "cell_type": "code",
   "execution_count": 146,
   "metadata": {},
   "outputs": [
    {
     "data": {
      "text/plain": [
       "<__main__.ListNode at 0x10b31ac18>"
      ]
     },
     "execution_count": 146,
     "metadata": {},
     "output_type": "execute_result"
    }
   ],
   "source": [
    "class ListNode:\n",
    "    def __init__(self, x):\n",
    "        self.val = x\n",
    "        self.next = None\n",
    "\n",
    "l1 = ListNode(2)\n",
    "a1 =ListNode(4)\n",
    "b1 = ListNode(3)\n",
    "l1.next=a1\n",
    "a1.next=b1\n",
    "\n",
    "l2 = ListNode(5)\n",
    "a2 =ListNode(6)\n",
    "b2 = ListNode(4)\n",
    "l2.next=a2\n",
    "a2.next=b2\n",
    "\n",
    "class Solution:\n",
    "    def addTwoNumbers(self, l1: ListNode, l2: ListNode) -> ListNode:\n",
    "        flag =0\n",
    "        result = []\n",
    "        while l1 is not None:\n",
    "            sum3 = l1.val + l2.val + flag\n",
    "            if sum3 <10:\n",
    "                result.append(sum3)\n",
    "                flag = 0\n",
    "            else:\n",
    "                result.append(sum3%10)\n",
    "                flag+=1\n",
    "            l1 = l1.next\n",
    "            l2 = l2.next\n",
    "        l3 = ListNode(result[0])\n",
    "        for i in range(1,len(result)-1):\n",
    "            l3.next = ListNode(result[i])\n",
    "        return l3\n",
    "\n",
    "op = Solution()\n",
    "op.addTwoNumbers(l1,l2)\n"
   ]
  },
  {
   "cell_type": "markdown",
   "metadata": {},
   "source": [
    "leetcode 答题版:最终解答"
   ]
  },
  {
   "cell_type": "code",
   "execution_count": null,
   "metadata": {},
   "outputs": [],
   "source": [
    "# Definition for singly-linked list.\n",
    "# class ListNode:\n",
    "#     def __init__(self, x):\n",
    "#         self.val = x\n",
    "#         self.next = None\n",
    "\n",
    "\n",
    "class Solution:\n",
    "    def addTwoNumbers(self, l1: ListNode, l2: ListNode) -> ListNode:\n",
    "        flag =0\n",
    "        result = []\n",
    "        while l1 is not None or l2 is not None:\n",
    "            if l1 is None and l2 is not None:\n",
    "                a = 0\n",
    "            else:\n",
    "                a = l1.val\n",
    "\n",
    "            if l2 is None and l1 is not None:\n",
    "                b = 0\n",
    "            else:\n",
    "                b = l2.val\n",
    "\n",
    "            sum3 = a + b + flag\n",
    "            if sum3 <10:\n",
    "                result.append(sum3)\n",
    "                flag = 0\n",
    "            else:\n",
    "                result.append(sum3%10)\n",
    "                flag=1\n",
    "            if l1 is not None:\n",
    "                l1 = l1.next\n",
    "            if l2 is not None:\n",
    "                l2 = l2.next    \n",
    "            if flag ==1 and (l1 is None and l2 is None):\n",
    "                result.append(flag)\n",
    "            \n",
    "        l3 = ListNode(result[0])\n",
    "        a = l3\n",
    "        for i in range(1,len(result)):\n",
    "            a.next = ListNode(result[i])\n",
    "            a  = a.next\n",
    "        return l3\n"
   ]
  }
 ],
 "metadata": {
  "kernelspec": {
   "display_name": "MLinBEPC",
   "language": "python",
   "name": "mlinbepc"
  },
  "language_info": {
   "codemirror_mode": {
    "name": "ipython",
    "version": 3
   },
   "file_extension": ".py",
   "mimetype": "text/x-python",
   "name": "python",
   "nbconvert_exporter": "python",
   "pygments_lexer": "ipython3",
   "version": "3.6.7"
  }
 },
 "nbformat": 4,
 "nbformat_minor": 2
}
