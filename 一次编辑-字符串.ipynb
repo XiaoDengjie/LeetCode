{
 "cells": [
  {
   "cell_type": "markdown",
   "metadata": {},
   "source": [
    "### 一次编辑\n",
    "字符串有三种编辑操作:插入一个字符、删除一个字符或者替换一个字符。 给定两个字符串，编写一个函数判定它们是否只需要一次(或者零次)编辑。\n",
    "\n",
    " \n",
    "\n",
    "示例 1:\n",
    "\n",
    "输入: \n",
    "first = \"pale\"\n",
    "second = \"ple\"\n",
    "输出: True\n",
    " \n",
    "\n",
    "示例 2:\n",
    "\n",
    "输入: \n",
    "first = \"pales\"\n",
    "second = \"pal\"\n",
    "输出: False"
   ]
  },
  {
   "cell_type": "code",
   "execution_count": 15,
   "metadata": {},
   "outputs": [
    {
     "data": {
      "text/plain": [
       "False"
      ]
     },
     "execution_count": 15,
     "metadata": {},
     "output_type": "execute_result"
    }
   ],
   "source": [
    "first = \"horse\"\n",
    "second = \"ros\"\n",
    "class Solution:\n",
    "    def oneEditAway(self, first:str, second:str)->bool:\n",
    "        if len(first)>len(second):\n",
    "            first, second = second, first\n",
    "        if len(second)-len(first) >1:\n",
    "            return False\n",
    "        if len(first) == len(second):\n",
    "            flag = 0\n",
    "            for i in range(len(first)):\n",
    "                if first[i] != second[i]:\n",
    "                    flag +=1\n",
    "            if flag>1:\n",
    "                return False\n",
    "            else:\n",
    "                return True\n",
    "\n",
    "        if len(second) - len(first) == 1:\n",
    "            for i in range(len(second)):\n",
    "                new_second = second[0:i]+second[i+1:]\n",
    "                if new_second == first:\n",
    "                    return True\n",
    "            return False\n",
    "\n",
    "a = Solution()\n",
    "a.oneEditAway(first,second)"
   ]
  },
  {
   "cell_type": "code",
   "execution_count": 8,
   "metadata": {},
   "outputs": [
    {
     "name": "stdout",
     "output_type": "stream",
     "text": [
      "bcd\n",
      "acd\n",
      "abd\n",
      "abc\n"
     ]
    }
   ],
   "source": [
    "a = \"abcd\"\n",
    "for i in range(len(a)):\n",
    "    b = a[0:i]+a[i+1:]\n",
    "    print(b)\n"
   ]
  }
 ],
 "metadata": {
  "kernelspec": {
   "display_name": "MLinBEPC",
   "language": "python",
   "name": "mlinbepc"
  },
  "language_info": {
   "codemirror_mode": {
    "name": "ipython",
    "version": 3
   },
   "file_extension": ".py",
   "mimetype": "text/x-python",
   "name": "python",
   "nbconvert_exporter": "python",
   "pygments_lexer": "ipython3",
   "version": "3.6.7"
  }
 },
 "nbformat": 4,
 "nbformat_minor": 2
}
