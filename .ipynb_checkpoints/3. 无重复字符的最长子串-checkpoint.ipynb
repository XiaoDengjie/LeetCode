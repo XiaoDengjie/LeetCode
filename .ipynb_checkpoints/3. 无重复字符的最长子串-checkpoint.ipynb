{
 "cells": [
  {
   "cell_type": "markdown",
   "metadata": {},
   "source": [
    "给定一个字符串，请你找出其中不含有重复字符的 最长子串 的长度。\n",
    "\n",
    "示例 1:\n",
    "\n",
    "输入: \"abcabcbb\"\n",
    "输出: 3 \n",
    "解释: 因为无重复字符的最长子串是 \"abc\"，所以其长度为 3。\n",
    "示例 2:\n",
    "\n",
    "输入: \"bbbbb\"\n",
    "输出: 1\n",
    "解释: 因为无重复字符的最长子串是 \"b\"，所以其长度为 1。\n",
    "示例 3:\n",
    "\n",
    "输入: \"pwwkew\"\n",
    "输出: 3\n",
    "解释: 因为无重复字符的最长子串是 \"wke\"，所以其长度为 3。\n",
    "     请注意，你的答案必须是 子串 的长度，\"pwke\" 是一个子序列，不是子串。\n",
    "\n",
    "来源：力扣（LeetCode）\n",
    "链接：https://leetcode-cn.com/problems/longest-substring-without-repeating-characters\n",
    "著作权归领扣网络所有。商业转载请联系官方授权，非商业转载请注明出处。"
   ]
  },
  {
   "cell_type": "code",
   "execution_count": 84,
   "metadata": {},
   "outputs": [],
   "source": [
    "class Solution:\n",
    "    def lengthOfLongestSubstring(self, s: str) -> int:\n",
    "        l = []\n",
    "        e = []\n",
    "        n=0\n",
    "        for i in range(len(s)):\n",
    "            if s[i] not in e:\n",
    "                n+=1\n",
    "                e.append(s[i])\n",
    "                l.append(n)\n",
    "            else:\n",
    "                le = len(e)\n",
    "                for j in range(0, le):\n",
    "                    if s[i] != e[0]:\n",
    "                        del e[0]\n",
    "                        n = n-1\n",
    "                        l.append(n)\n",
    "                    else:\n",
    "                        del e[0]\n",
    "                        e.append(s[i])\n",
    "                        l.append(n)\n",
    "                        break\n",
    "        if l != []:\n",
    "            return max(l)\n",
    "        else:\n",
    "            return 0\n",
    "#         return l"
   ]
  },
  {
   "cell_type": "code",
   "execution_count": 85,
   "metadata": {},
   "outputs": [
    {
     "data": {
      "text/plain": [
       "[1, 2, 3, 3, 3, 3, 2, 2, 1, 1]"
      ]
     },
     "execution_count": 85,
     "metadata": {},
     "output_type": "execute_result"
    }
   ],
   "source": [
    "s = \"abcabcbb\"\n",
    "op = Solution()\n",
    "op.lengthOfLongestSubstring(s)"
   ]
  },
  {
   "cell_type": "code",
   "execution_count": 30,
   "metadata": {},
   "outputs": [
    {
     "name": "stdout",
     "output_type": "stream",
     "text": [
      "d\n",
      "6\n",
      "a\n",
      "5\n",
      "e\n",
      "4\n",
      "d\n",
      "3\n",
      "c\n",
      "2\n",
      "b\n",
      "1\n",
      "a\n",
      "0\n"
     ]
    }
   ],
   "source": [
    "s = \"qrsvbspk\"\n",
    "for i in range(len(s)-1,-1,-1):\n",
    "    print(s[i])\n",
    "    print(i)"
   ]
  },
  {
   "cell_type": "code",
   "execution_count": null,
   "metadata": {},
   "outputs": [],
   "source": []
  }
 ],
 "metadata": {
  "kernelspec": {
   "display_name": "MLinBEPC",
   "language": "python",
   "name": "mlinbepc"
  },
  "language_info": {
   "codemirror_mode": {
    "name": "ipython",
    "version": 3
   },
   "file_extension": ".py",
   "mimetype": "text/x-python",
   "name": "python",
   "nbconvert_exporter": "python",
   "pygments_lexer": "ipython3",
   "version": "3.6.7"
  }
 },
 "nbformat": 4,
 "nbformat_minor": 2
}
